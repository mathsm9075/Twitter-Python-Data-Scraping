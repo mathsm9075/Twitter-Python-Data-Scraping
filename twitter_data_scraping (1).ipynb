{
 "cells": [
  {
   "cell_type": "code",
   "execution_count": 1,
   "id": "30dfdde2-728e-41ed-9959-e9ec7ba27d50",
   "metadata": {},
   "outputs": [],
   "source": [
    "import pandas as pd\n",
    "import seaborn as sns\n",
    "import matplotlib.pyplot as plt\n",
    "%matplotlib inline\n",
    "import warnings\n",
    "warnings.filterwarnings('ignore')\n",
    "import numpy as np\n",
    "import os\n",
    "import config\n",
    "import tweepy"
   ]
  },
  {
   "cell_type": "code",
   "execution_count": 17,
   "id": "26a26105-c947-4748-99a3-688173468fe8",
   "metadata": {},
   "outputs": [],
   "source": [
    "#%run ./keys.ipynb #For opening other notebook in current notebook."
   ]
  },
  {
   "cell_type": "code",
   "execution_count": 18,
   "id": "ce93715e-8d3b-48c4-b9db-85365e25f6a5",
   "metadata": {},
   "outputs": [],
   "source": [
    "consumer_key='4fXB2tjWNmyyjeYrPcjtUvGbE'\n",
    "consumer_secret='eM3bz0gyTJDvlx0bbtngoL82okm5t30GG9mSN1syNz7kr3PPGb'\n",
    "access_token= '1237967779015393280-4qhSDFS0c8S3VxQvS4EEXJOGVF7gTf'\n",
    "access_token_secret='oXYEk2cTndJ4tcNjuP4c5QuNZ8ErxexacMiFxVeEvUnVX'"
   ]
  },
  {
   "cell_type": "code",
   "execution_count": 19,
   "id": "dfbd6e31-313b-4d5b-a069-05625bd8787e",
   "metadata": {},
   "outputs": [],
   "source": [
    "auth = tweepy.OAuth1UserHandler(consumer_key, consumer_secret, access_token, access_token_secret)"
   ]
  },
  {
   "cell_type": "code",
   "execution_count": 20,
   "id": "0d5fbf9c-6555-4cff-8c00-3b5c1f253757",
   "metadata": {},
   "outputs": [],
   "source": [
    "api = tweepy.API(auth)"
   ]
  },
  {
   "cell_type": "markdown",
   "id": "46141716-5650-42b2-aa6e-6ddc379cf4df",
   "metadata": {},
   "source": [
    "public_tweets = api.home_timeline()\n",
    "for tweet in public_tweets:\n",
    "    print(tweet.text)"
   ]
  },
  {
   "cell_type": "markdown",
   "id": "34b5b009-8e96-4041-a047-223d02316b12",
   "metadata": {},
   "source": [
    "search_words = [\"python\", \"accounting\", \"marketing\", \"data analysis\", \"Data science\", \"Power BI\", \"Tableau\", \"Java\", ]\n",
    "\n",
    "date_since = \"2020-05-21\"\n",
    "\n",
    "tweets = tweepy.Cursor(api.search, =search_words,\n",
    "                       geocode=\"20.5937,78.9629,3000km\",\n",
    "                       lang=\"en\", since=date_since).items(10)"
   ]
  },
  {
   "cell_type": "markdown",
   "id": "3234eb12-37c1-4e6a-84b6-94b5d0ff2db0",
   "metadata": {},
   "source": [
    "for i in tweets:\n",
    "    print(i.full_text)"
   ]
  },
  {
   "cell_type": "code",
   "execution_count": 64,
   "id": "b297a780-55da-4b60-8d59-7bc0fb3a712d",
   "metadata": {},
   "outputs": [],
   "source": [
    "tweets = tweepy.Cursor(api.search_tweets,q='python', lang=\"en\", tweet_mode='extended').items(400)\n",
    "#num_tweets=300\n",
    "tweet=[]\n",
    "account_name=[]\n",
    "time=[]\n",
    "for i in tweets:\n",
    "    tweet.append(i.full_text)\n",
    "    account_name.append(i.id)\n",
    "    time.append(i.created_at)\n",
    "    \n",
    "    "
   ]
  },
  {
   "cell_type": "code",
   "execution_count": 65,
   "id": "66708863-8a61-4764-a00c-79da7edb481e",
   "metadata": {},
   "outputs": [],
   "source": [
    "dfp=pd.DataFrame({'Tweets':tweet, 'User':account_name, 'Time':time})"
   ]
  },
  {
   "cell_type": "code",
   "execution_count": 66,
   "id": "5d17fbd9-b1ec-43a2-a691-72033ac38002",
   "metadata": {},
   "outputs": [
    {
     "data": {
      "text/html": [
       "<div>\n",
       "<style scoped>\n",
       "    .dataframe tbody tr th:only-of-type {\n",
       "        vertical-align: middle;\n",
       "    }\n",
       "\n",
       "    .dataframe tbody tr th {\n",
       "        vertical-align: top;\n",
       "    }\n",
       "\n",
       "    .dataframe thead th {\n",
       "        text-align: right;\n",
       "    }\n",
       "</style>\n",
       "<table border=\"1\" class=\"dataframe\">\n",
       "  <thead>\n",
       "    <tr style=\"text-align: right;\">\n",
       "      <th></th>\n",
       "      <th>Tweets</th>\n",
       "      <th>User</th>\n",
       "      <th>Time</th>\n",
       "    </tr>\n",
       "  </thead>\n",
       "  <tbody>\n",
       "    <tr>\n",
       "      <th>0</th>\n",
       "      <td>RT @Khulood_Almani: What are the5⃣Reasons behi...</td>\n",
       "      <td>1547950065553068036</td>\n",
       "      <td>2022-07-15 14:23:49+00:00</td>\n",
       "    </tr>\n",
       "    <tr>\n",
       "      <th>1</th>\n",
       "      <td>Today I have just completed #Day5 of 100 days ...</td>\n",
       "      <td>1547950064509014016</td>\n",
       "      <td>2022-07-15 14:23:49+00:00</td>\n",
       "    </tr>\n",
       "    <tr>\n",
       "      <th>2</th>\n",
       "      <td>RT @Khulood_Almani: 💻This #Workstation takes i...</td>\n",
       "      <td>1547950046838026241</td>\n",
       "      <td>2022-07-15 14:23:45+00:00</td>\n",
       "    </tr>\n",
       "    <tr>\n",
       "      <th>3</th>\n",
       "      <td>RT @kevinbolk: At what point did the world bec...</td>\n",
       "      <td>1547950037757353986</td>\n",
       "      <td>2022-07-15 14:23:43+00:00</td>\n",
       "    </tr>\n",
       "    <tr>\n",
       "      <th>4</th>\n",
       "      <td>RT @gp_pulipaka: Geometric Methods and Applica...</td>\n",
       "      <td>1547950029557493761</td>\n",
       "      <td>2022-07-15 14:23:41+00:00</td>\n",
       "    </tr>\n",
       "    <tr>\n",
       "      <th>...</th>\n",
       "      <td>...</td>\n",
       "      <td>...</td>\n",
       "      <td>...</td>\n",
       "    </tr>\n",
       "    <tr>\n",
       "      <th>395</th>\n",
       "      <td>9 One-Liners Anyone Learning Python Should Kno...</td>\n",
       "      <td>1547946473567899648</td>\n",
       "      <td>2022-07-15 14:09:33+00:00</td>\n",
       "    </tr>\n",
       "    <tr>\n",
       "      <th>396</th>\n",
       "      <td>RT @realpython: 🐍🎧 Episode #117 of the Real Py...</td>\n",
       "      <td>1547946466592706562</td>\n",
       "      <td>2022-07-15 14:09:31+00:00</td>\n",
       "    </tr>\n",
       "    <tr>\n",
       "      <th>397</th>\n",
       "      <td>RT @JetBrains_Edu: Learning #Python? Check out...</td>\n",
       "      <td>1547946444291653637</td>\n",
       "      <td>2022-07-15 14:09:26+00:00</td>\n",
       "    </tr>\n",
       "    <tr>\n",
       "      <th>398</th>\n",
       "      <td>RT @humblemuzzu: Day 1 of #100daysofcode \\n\\nT...</td>\n",
       "      <td>1547946433302519809</td>\n",
       "      <td>2022-07-15 14:09:23+00:00</td>\n",
       "    </tr>\n",
       "    <tr>\n",
       "      <th>399</th>\n",
       "      <td>RT @humblemuzzu: Day 1 of #100daysofcode \\n\\nT...</td>\n",
       "      <td>1547946417708097542</td>\n",
       "      <td>2022-07-15 14:09:20+00:00</td>\n",
       "    </tr>\n",
       "  </tbody>\n",
       "</table>\n",
       "<p>400 rows × 3 columns</p>\n",
       "</div>"
      ],
      "text/plain": [
       "                                                Tweets                 User  \\\n",
       "0    RT @Khulood_Almani: What are the5⃣Reasons behi...  1547950065553068036   \n",
       "1    Today I have just completed #Day5 of 100 days ...  1547950064509014016   \n",
       "2    RT @Khulood_Almani: 💻This #Workstation takes i...  1547950046838026241   \n",
       "3    RT @kevinbolk: At what point did the world bec...  1547950037757353986   \n",
       "4    RT @gp_pulipaka: Geometric Methods and Applica...  1547950029557493761   \n",
       "..                                                 ...                  ...   \n",
       "395  9 One-Liners Anyone Learning Python Should Kno...  1547946473567899648   \n",
       "396  RT @realpython: 🐍🎧 Episode #117 of the Real Py...  1547946466592706562   \n",
       "397  RT @JetBrains_Edu: Learning #Python? Check out...  1547946444291653637   \n",
       "398  RT @humblemuzzu: Day 1 of #100daysofcode \\n\\nT...  1547946433302519809   \n",
       "399  RT @humblemuzzu: Day 1 of #100daysofcode \\n\\nT...  1547946417708097542   \n",
       "\n",
       "                         Time  \n",
       "0   2022-07-15 14:23:49+00:00  \n",
       "1   2022-07-15 14:23:49+00:00  \n",
       "2   2022-07-15 14:23:45+00:00  \n",
       "3   2022-07-15 14:23:43+00:00  \n",
       "4   2022-07-15 14:23:41+00:00  \n",
       "..                        ...  \n",
       "395 2022-07-15 14:09:33+00:00  \n",
       "396 2022-07-15 14:09:31+00:00  \n",
       "397 2022-07-15 14:09:26+00:00  \n",
       "398 2022-07-15 14:09:23+00:00  \n",
       "399 2022-07-15 14:09:20+00:00  \n",
       "\n",
       "[400 rows x 3 columns]"
      ]
     },
     "execution_count": 66,
     "metadata": {},
     "output_type": "execute_result"
    }
   ],
   "source": [
    "dfp"
   ]
  },
  {
   "cell_type": "code",
   "execution_count": 67,
   "id": "cd05113f-a008-4692-b042-080266962885",
   "metadata": {},
   "outputs": [],
   "source": [
    "df1=dfp[~dfp.Tweets.str.contains(\"RT\")]"
   ]
  },
  {
   "cell_type": "code",
   "execution_count": 68,
   "id": "d9d327bc-f4d9-4484-8034-3c45a0670568",
   "metadata": {},
   "outputs": [
    {
     "data": {
      "text/html": [
       "<div>\n",
       "<style scoped>\n",
       "    .dataframe tbody tr th:only-of-type {\n",
       "        vertical-align: middle;\n",
       "    }\n",
       "\n",
       "    .dataframe tbody tr th {\n",
       "        vertical-align: top;\n",
       "    }\n",
       "\n",
       "    .dataframe thead th {\n",
       "        text-align: right;\n",
       "    }\n",
       "</style>\n",
       "<table border=\"1\" class=\"dataframe\">\n",
       "  <thead>\n",
       "    <tr style=\"text-align: right;\">\n",
       "      <th></th>\n",
       "      <th>Tweets</th>\n",
       "      <th>User</th>\n",
       "      <th>Time</th>\n",
       "    </tr>\n",
       "  </thead>\n",
       "  <tbody>\n",
       "    <tr>\n",
       "      <th>0</th>\n",
       "      <td>Today I have just completed #Day5 of 100 days ...</td>\n",
       "      <td>1547950064509014016</td>\n",
       "      <td>2022-07-15 14:23:49+00:00</td>\n",
       "    </tr>\n",
       "    <tr>\n",
       "      <th>1</th>\n",
       "      <td>@s_gruppetta_ct @reuvenmlerner If you can snea...</td>\n",
       "      <td>1547949887622328321</td>\n",
       "      <td>2022-07-15 14:23:07+00:00</td>\n",
       "    </tr>\n",
       "    <tr>\n",
       "      <th>2</th>\n",
       "      <td>Driven Brands, Inc. is looking for an Economis...</td>\n",
       "      <td>1547949864809422850</td>\n",
       "      <td>2022-07-15 14:23:01+00:00</td>\n",
       "    </tr>\n",
       "    <tr>\n",
       "      <th>3</th>\n",
       "      <td>Freddie Mac is looking for a Quantitative Anal...</td>\n",
       "      <td>1547949861839851523</td>\n",
       "      <td>2022-07-15 14:23:01+00:00</td>\n",
       "    </tr>\n",
       "    <tr>\n",
       "      <th>4</th>\n",
       "      <td>@DThompsonDev I am starting my career in https...</td>\n",
       "      <td>1547949809255923719</td>\n",
       "      <td>2022-07-15 14:22:48+00:00</td>\n",
       "    </tr>\n",
       "    <tr>\n",
       "      <th>...</th>\n",
       "      <td>...</td>\n",
       "      <td>...</td>\n",
       "      <td>...</td>\n",
       "    </tr>\n",
       "    <tr>\n",
       "      <th>61</th>\n",
       "      <td>I didn't get to post my second #Python ebook g...</td>\n",
       "      <td>1547946515355734020</td>\n",
       "      <td>2022-07-15 14:09:43+00:00</td>\n",
       "    </tr>\n",
       "    <tr>\n",
       "      <th>62</th>\n",
       "      <td>There have been 5 visits in the last  12 Minui...</td>\n",
       "      <td>1547946497802547204</td>\n",
       "      <td>2022-07-15 14:09:39+00:00</td>\n",
       "    </tr>\n",
       "    <tr>\n",
       "      <th>63</th>\n",
       "      <td>9 One-Liners Anyone Learning Python Should Kno...</td>\n",
       "      <td>1547946473760833538</td>\n",
       "      <td>2022-07-15 14:09:33+00:00</td>\n",
       "    </tr>\n",
       "    <tr>\n",
       "      <th>64</th>\n",
       "      <td>9 One-Liners Anyone Learning Python Should Kno...</td>\n",
       "      <td>1547946473676873733</td>\n",
       "      <td>2022-07-15 14:09:33+00:00</td>\n",
       "    </tr>\n",
       "    <tr>\n",
       "      <th>65</th>\n",
       "      <td>9 One-Liners Anyone Learning Python Should Kno...</td>\n",
       "      <td>1547946473567899648</td>\n",
       "      <td>2022-07-15 14:09:33+00:00</td>\n",
       "    </tr>\n",
       "  </tbody>\n",
       "</table>\n",
       "<p>66 rows × 3 columns</p>\n",
       "</div>"
      ],
      "text/plain": [
       "                                               Tweets                 User  \\\n",
       "0   Today I have just completed #Day5 of 100 days ...  1547950064509014016   \n",
       "1   @s_gruppetta_ct @reuvenmlerner If you can snea...  1547949887622328321   \n",
       "2   Driven Brands, Inc. is looking for an Economis...  1547949864809422850   \n",
       "3   Freddie Mac is looking for a Quantitative Anal...  1547949861839851523   \n",
       "4   @DThompsonDev I am starting my career in https...  1547949809255923719   \n",
       "..                                                ...                  ...   \n",
       "61  I didn't get to post my second #Python ebook g...  1547946515355734020   \n",
       "62  There have been 5 visits in the last  12 Minui...  1547946497802547204   \n",
       "63  9 One-Liners Anyone Learning Python Should Kno...  1547946473760833538   \n",
       "64  9 One-Liners Anyone Learning Python Should Kno...  1547946473676873733   \n",
       "65  9 One-Liners Anyone Learning Python Should Kno...  1547946473567899648   \n",
       "\n",
       "                        Time  \n",
       "0  2022-07-15 14:23:49+00:00  \n",
       "1  2022-07-15 14:23:07+00:00  \n",
       "2  2022-07-15 14:23:01+00:00  \n",
       "3  2022-07-15 14:23:01+00:00  \n",
       "4  2022-07-15 14:22:48+00:00  \n",
       "..                       ...  \n",
       "61 2022-07-15 14:09:43+00:00  \n",
       "62 2022-07-15 14:09:39+00:00  \n",
       "63 2022-07-15 14:09:33+00:00  \n",
       "64 2022-07-15 14:09:33+00:00  \n",
       "65 2022-07-15 14:09:33+00:00  \n",
       "\n",
       "[66 rows x 3 columns]"
      ]
     },
     "execution_count": 68,
     "metadata": {},
     "output_type": "execute_result"
    }
   ],
   "source": [
    "df1=df1.reset_index(drop=True)\n",
    "df1"
   ]
  },
  {
   "cell_type": "code",
   "execution_count": 26,
   "id": "90c0dd62-6e0e-4421-98f7-257268342304",
   "metadata": {},
   "outputs": [
    {
     "data": {
      "text/plain": [
       "(300, 3)"
      ]
     },
     "execution_count": 26,
     "metadata": {},
     "output_type": "execute_result"
    }
   ],
   "source": [
    "dfp.shape"
   ]
  },
  {
   "cell_type": "code",
   "execution_count": 106,
   "id": "a694de9f-e1a5-413e-b597-400f2c955bea",
   "metadata": {},
   "outputs": [],
   "source": [
    "df1['classification']='python'"
   ]
  },
  {
   "cell_type": "code",
   "execution_count": 107,
   "id": "028aaa4d-643a-46d7-8c86-940f746f8a5a",
   "metadata": {},
   "outputs": [
    {
     "data": {
      "text/html": [
       "<div>\n",
       "<style scoped>\n",
       "    .dataframe tbody tr th:only-of-type {\n",
       "        vertical-align: middle;\n",
       "    }\n",
       "\n",
       "    .dataframe tbody tr th {\n",
       "        vertical-align: top;\n",
       "    }\n",
       "\n",
       "    .dataframe thead th {\n",
       "        text-align: right;\n",
       "    }\n",
       "</style>\n",
       "<table border=\"1\" class=\"dataframe\">\n",
       "  <thead>\n",
       "    <tr style=\"text-align: right;\">\n",
       "      <th></th>\n",
       "      <th>Tweets</th>\n",
       "      <th>User</th>\n",
       "      <th>Time</th>\n",
       "      <th>classification</th>\n",
       "    </tr>\n",
       "  </thead>\n",
       "  <tbody>\n",
       "    <tr>\n",
       "      <th>0</th>\n",
       "      <td>Today I have just completed #Day5 of 100 days ...</td>\n",
       "      <td>1547950064509014016</td>\n",
       "      <td>2022-07-15 14:23:49+00:00</td>\n",
       "      <td>python</td>\n",
       "    </tr>\n",
       "    <tr>\n",
       "      <th>1</th>\n",
       "      <td>@s_gruppetta_ct @reuvenmlerner If you can snea...</td>\n",
       "      <td>1547949887622328321</td>\n",
       "      <td>2022-07-15 14:23:07+00:00</td>\n",
       "      <td>python</td>\n",
       "    </tr>\n",
       "    <tr>\n",
       "      <th>2</th>\n",
       "      <td>Driven Brands, Inc. is looking for an Economis...</td>\n",
       "      <td>1547949864809422850</td>\n",
       "      <td>2022-07-15 14:23:01+00:00</td>\n",
       "      <td>python</td>\n",
       "    </tr>\n",
       "    <tr>\n",
       "      <th>3</th>\n",
       "      <td>Freddie Mac is looking for a Quantitative Anal...</td>\n",
       "      <td>1547949861839851523</td>\n",
       "      <td>2022-07-15 14:23:01+00:00</td>\n",
       "      <td>python</td>\n",
       "    </tr>\n",
       "    <tr>\n",
       "      <th>4</th>\n",
       "      <td>@DThompsonDev I am starting my career in https...</td>\n",
       "      <td>1547949809255923719</td>\n",
       "      <td>2022-07-15 14:22:48+00:00</td>\n",
       "      <td>python</td>\n",
       "    </tr>\n",
       "    <tr>\n",
       "      <th>...</th>\n",
       "      <td>...</td>\n",
       "      <td>...</td>\n",
       "      <td>...</td>\n",
       "      <td>...</td>\n",
       "    </tr>\n",
       "    <tr>\n",
       "      <th>61</th>\n",
       "      <td>I didn't get to post my second #Python ebook g...</td>\n",
       "      <td>1547946515355734020</td>\n",
       "      <td>2022-07-15 14:09:43+00:00</td>\n",
       "      <td>python</td>\n",
       "    </tr>\n",
       "    <tr>\n",
       "      <th>62</th>\n",
       "      <td>There have been 5 visits in the last  12 Minui...</td>\n",
       "      <td>1547946497802547204</td>\n",
       "      <td>2022-07-15 14:09:39+00:00</td>\n",
       "      <td>python</td>\n",
       "    </tr>\n",
       "    <tr>\n",
       "      <th>63</th>\n",
       "      <td>9 One-Liners Anyone Learning Python Should Kno...</td>\n",
       "      <td>1547946473760833538</td>\n",
       "      <td>2022-07-15 14:09:33+00:00</td>\n",
       "      <td>python</td>\n",
       "    </tr>\n",
       "    <tr>\n",
       "      <th>64</th>\n",
       "      <td>9 One-Liners Anyone Learning Python Should Kno...</td>\n",
       "      <td>1547946473676873733</td>\n",
       "      <td>2022-07-15 14:09:33+00:00</td>\n",
       "      <td>python</td>\n",
       "    </tr>\n",
       "    <tr>\n",
       "      <th>65</th>\n",
       "      <td>9 One-Liners Anyone Learning Python Should Kno...</td>\n",
       "      <td>1547946473567899648</td>\n",
       "      <td>2022-07-15 14:09:33+00:00</td>\n",
       "      <td>python</td>\n",
       "    </tr>\n",
       "  </tbody>\n",
       "</table>\n",
       "<p>66 rows × 4 columns</p>\n",
       "</div>"
      ],
      "text/plain": [
       "                                               Tweets                 User  \\\n",
       "0   Today I have just completed #Day5 of 100 days ...  1547950064509014016   \n",
       "1   @s_gruppetta_ct @reuvenmlerner If you can snea...  1547949887622328321   \n",
       "2   Driven Brands, Inc. is looking for an Economis...  1547949864809422850   \n",
       "3   Freddie Mac is looking for a Quantitative Anal...  1547949861839851523   \n",
       "4   @DThompsonDev I am starting my career in https...  1547949809255923719   \n",
       "..                                                ...                  ...   \n",
       "61  I didn't get to post my second #Python ebook g...  1547946515355734020   \n",
       "62  There have been 5 visits in the last  12 Minui...  1547946497802547204   \n",
       "63  9 One-Liners Anyone Learning Python Should Kno...  1547946473760833538   \n",
       "64  9 One-Liners Anyone Learning Python Should Kno...  1547946473676873733   \n",
       "65  9 One-Liners Anyone Learning Python Should Kno...  1547946473567899648   \n",
       "\n",
       "                        Time classification  \n",
       "0  2022-07-15 14:23:49+00:00         python  \n",
       "1  2022-07-15 14:23:07+00:00         python  \n",
       "2  2022-07-15 14:23:01+00:00         python  \n",
       "3  2022-07-15 14:23:01+00:00         python  \n",
       "4  2022-07-15 14:22:48+00:00         python  \n",
       "..                       ...            ...  \n",
       "61 2022-07-15 14:09:43+00:00         python  \n",
       "62 2022-07-15 14:09:39+00:00         python  \n",
       "63 2022-07-15 14:09:33+00:00         python  \n",
       "64 2022-07-15 14:09:33+00:00         python  \n",
       "65 2022-07-15 14:09:33+00:00         python  \n",
       "\n",
       "[66 rows x 4 columns]"
      ]
     },
     "execution_count": 107,
     "metadata": {},
     "output_type": "execute_result"
    }
   ],
   "source": [
    "df1"
   ]
  },
  {
   "cell_type": "code",
   "execution_count": 70,
   "id": "4be5dba3-c1e7-4107-a65f-f67940fc6041",
   "metadata": {},
   "outputs": [],
   "source": [
    "tweets = tweepy.Cursor(api.search_tweets,q=search_words, lang=\"en\", tweet_mode='extended').items(num_tweets)"
   ]
  },
  {
   "cell_type": "code",
   "execution_count": 71,
   "id": "74b47ae7-edfd-4d4c-b4cc-b3a2888f1734",
   "metadata": {},
   "outputs": [],
   "source": [
    "num_tweets=300\n",
    "search_words='confidence'\n",
    "tweet=[]\n",
    "account_name=[]\n",
    "time=[]\n",
    "for i in tweets:\n",
    "    tweet.append(i.full_text)\n",
    "    account_name.append(i.id)\n",
    "    time.append(i.created_at)\n",
    "    \n",
    "    "
   ]
  },
  {
   "cell_type": "code",
   "execution_count": 33,
   "id": "9c4bc28a-2c14-4e12-b122-f286c3064c5e",
   "metadata": {},
   "outputs": [],
   "source": [
    "dfc=pd.DataFrame({'Tweets':tweet, 'User':account_name, 'Time':time})"
   ]
  },
  {
   "cell_type": "code",
   "execution_count": 72,
   "id": "72579bd0-2c2b-4ccc-a4c5-31cff2b438e7",
   "metadata": {},
   "outputs": [
    {
     "data": {
      "text/plain": [
       "(83, 3)"
      ]
     },
     "execution_count": 72,
     "metadata": {},
     "output_type": "execute_result"
    }
   ],
   "source": [
    "df2=dfc[~dfc.Tweets.str.contains(\"RT\")]\n",
    "df2.shape"
   ]
  },
  {
   "cell_type": "code",
   "execution_count": 73,
   "id": "3b4a9e79-1eaa-461f-875c-232bd466dcaf",
   "metadata": {},
   "outputs": [],
   "source": [
    "df2=df2.reset_index(drop=True)\n",
    "df2['classification']='confidence'\n"
   ]
  },
  {
   "cell_type": "markdown",
   "id": "5bc69289-33ae-461f-8968-e2407b96352a",
   "metadata": {},
   "source": [
    "search_words = [\"python\", \"accounting\", \"marketing\", \"data analysis\", \"Data science\", \"Power BI\", \"Tableau\", \"Java\", ]"
   ]
  },
  {
   "cell_type": "code",
   "execution_count": 74,
   "id": "60cbde97-5bba-4316-9778-bbca103b7ffc",
   "metadata": {},
   "outputs": [],
   "source": [
    "tweets = tweepy.Cursor(api.search_tweets,q=search_words, lang=\"en\", tweet_mode='extended').items(num_tweets)\n",
    "num_tweets=300\n",
    "search_words='marketing'\n",
    "tweet=[]\n",
    "account_name=[]\n",
    "time=[]\n",
    "for i in tweets:\n",
    "    tweet.append(i.full_text)\n",
    "    account_name.append(i.id)\n",
    "    time.append(i.created_at)\n",
    "    \n",
    "    "
   ]
  },
  {
   "cell_type": "code",
   "execution_count": 75,
   "id": "c69e7cf5-53f9-43a8-ab82-68ca133d05c7",
   "metadata": {},
   "outputs": [
    {
     "data": {
      "text/plain": [
       "(98, 3)"
      ]
     },
     "execution_count": 75,
     "metadata": {},
     "output_type": "execute_result"
    }
   ],
   "source": [
    "dfm=pd.DataFrame({'Tweets':tweet, 'User':account_name, 'Time':time})\n",
    "df3=dfm[~dfm.Tweets.str.contains(\"RT\")]\n",
    "df3.shape"
   ]
  },
  {
   "cell_type": "code",
   "execution_count": 76,
   "id": "a128302f-f413-4bf7-839f-e80c3d2758f8",
   "metadata": {},
   "outputs": [
    {
     "data": {
      "text/html": [
       "<div>\n",
       "<style scoped>\n",
       "    .dataframe tbody tr th:only-of-type {\n",
       "        vertical-align: middle;\n",
       "    }\n",
       "\n",
       "    .dataframe tbody tr th {\n",
       "        vertical-align: top;\n",
       "    }\n",
       "\n",
       "    .dataframe thead th {\n",
       "        text-align: right;\n",
       "    }\n",
       "</style>\n",
       "<table border=\"1\" class=\"dataframe\">\n",
       "  <thead>\n",
       "    <tr style=\"text-align: right;\">\n",
       "      <th></th>\n",
       "      <th>Tweets</th>\n",
       "      <th>User</th>\n",
       "      <th>Time</th>\n",
       "      <th>classification</th>\n",
       "    </tr>\n",
       "  </thead>\n",
       "  <tbody>\n",
       "    <tr>\n",
       "      <th>0</th>\n",
       "      <td>@BadMedicalTakes Love that confidence.</td>\n",
       "      <td>1547958329544024066</td>\n",
       "      <td>2022-07-15 14:56:40+00:00</td>\n",
       "      <td>marketing</td>\n",
       "    </tr>\n",
       "    <tr>\n",
       "      <th>1</th>\n",
       "      <td>2. Force the mind to control the body - When y...</td>\n",
       "      <td>1547958319381221378</td>\n",
       "      <td>2022-07-15 14:56:37+00:00</td>\n",
       "      <td>marketing</td>\n",
       "    </tr>\n",
       "    <tr>\n",
       "      <th>2</th>\n",
       "      <td>Seriously, just cancel the elections like you ...</td>\n",
       "      <td>1547958299105996801</td>\n",
       "      <td>2022-07-15 14:56:32+00:00</td>\n",
       "      <td>marketing</td>\n",
       "    </tr>\n",
       "    <tr>\n",
       "      <th>3</th>\n",
       "      <td>@RoroSw3 I’d say continue with self confidence...</td>\n",
       "      <td>1547958291732373504</td>\n",
       "      <td>2022-07-15 14:56:31+00:00</td>\n",
       "      <td>marketing</td>\n",
       "    </tr>\n",
       "    <tr>\n",
       "      <th>4</th>\n",
       "      <td>@indaydae_ I’ve been tryna build up the confid...</td>\n",
       "      <td>1547958276196773890</td>\n",
       "      <td>2022-07-15 14:56:27+00:00</td>\n",
       "      <td>marketing</td>\n",
       "    </tr>\n",
       "    <tr>\n",
       "      <th>...</th>\n",
       "      <td>...</td>\n",
       "      <td>...</td>\n",
       "      <td>...</td>\n",
       "      <td>...</td>\n",
       "    </tr>\n",
       "    <tr>\n",
       "      <th>93</th>\n",
       "      <td>#Corruption on which economic growth depends. ...</td>\n",
       "      <td>1547956884753108996</td>\n",
       "      <td>2022-07-15 14:50:55+00:00</td>\n",
       "      <td>marketing</td>\n",
       "    </tr>\n",
       "    <tr>\n",
       "      <th>94</th>\n",
       "      <td>Great pleasure to have @MRIPRO1 as new partner...</td>\n",
       "      <td>1547956874112147462</td>\n",
       "      <td>2022-07-15 14:50:53+00:00</td>\n",
       "      <td>marketing</td>\n",
       "    </tr>\n",
       "    <tr>\n",
       "      <th>95</th>\n",
       "      <td>“All Tennesseans should understand Arnn’s slur...</td>\n",
       "      <td>1547956872535109632</td>\n",
       "      <td>2022-07-15 14:50:52+00:00</td>\n",
       "      <td>marketing</td>\n",
       "    </tr>\n",
       "    <tr>\n",
       "      <th>96</th>\n",
       "      <td>Therapy is not enough, I need the confidence o...</td>\n",
       "      <td>1547956871939600385</td>\n",
       "      <td>2022-07-15 14:50:52+00:00</td>\n",
       "      <td>marketing</td>\n",
       "    </tr>\n",
       "    <tr>\n",
       "      <th>97</th>\n",
       "      <td>@Deeval33 Unfortunately if he steps down its n...</td>\n",
       "      <td>1547956861550280712</td>\n",
       "      <td>2022-07-15 14:50:50+00:00</td>\n",
       "      <td>marketing</td>\n",
       "    </tr>\n",
       "  </tbody>\n",
       "</table>\n",
       "<p>98 rows × 4 columns</p>\n",
       "</div>"
      ],
      "text/plain": [
       "                                               Tweets                 User  \\\n",
       "0              @BadMedicalTakes Love that confidence.  1547958329544024066   \n",
       "1   2. Force the mind to control the body - When y...  1547958319381221378   \n",
       "2   Seriously, just cancel the elections like you ...  1547958299105996801   \n",
       "3   @RoroSw3 I’d say continue with self confidence...  1547958291732373504   \n",
       "4   @indaydae_ I’ve been tryna build up the confid...  1547958276196773890   \n",
       "..                                                ...                  ...   \n",
       "93  #Corruption on which economic growth depends. ...  1547956884753108996   \n",
       "94  Great pleasure to have @MRIPRO1 as new partner...  1547956874112147462   \n",
       "95  “All Tennesseans should understand Arnn’s slur...  1547956872535109632   \n",
       "96  Therapy is not enough, I need the confidence o...  1547956871939600385   \n",
       "97  @Deeval33 Unfortunately if he steps down its n...  1547956861550280712   \n",
       "\n",
       "                        Time classification  \n",
       "0  2022-07-15 14:56:40+00:00      marketing  \n",
       "1  2022-07-15 14:56:37+00:00      marketing  \n",
       "2  2022-07-15 14:56:32+00:00      marketing  \n",
       "3  2022-07-15 14:56:31+00:00      marketing  \n",
       "4  2022-07-15 14:56:27+00:00      marketing  \n",
       "..                       ...            ...  \n",
       "93 2022-07-15 14:50:55+00:00      marketing  \n",
       "94 2022-07-15 14:50:53+00:00      marketing  \n",
       "95 2022-07-15 14:50:52+00:00      marketing  \n",
       "96 2022-07-15 14:50:52+00:00      marketing  \n",
       "97 2022-07-15 14:50:50+00:00      marketing  \n",
       "\n",
       "[98 rows x 4 columns]"
      ]
     },
     "execution_count": 76,
     "metadata": {},
     "output_type": "execute_result"
    }
   ],
   "source": [
    "df3=df3.reset_index(drop=True)\n",
    "df3['classification']='marketing'\n",
    "df3"
   ]
  },
  {
   "cell_type": "markdown",
   "id": "57ae5d7d-e5d7-405f-a5af-788ffcc9879d",
   "metadata": {},
   "source": [
    "tweets = tweepy.Cursor(api.search_tweets,q=search_words, lang=\"en\", tweet_mode='extended').items(num_tweets)\n",
    "num_tweets=200\n",
    "search_words='data analysis'\n",
    "tweet=[]\n",
    "account_name=[]\n",
    "time=[]\n",
    "for i in tweets:\n",
    "    tweet.append(i.full_text)\n",
    "    account_name.append(i.id)\n",
    "    time.append(i.created_at)\n",
    "    \n",
    "    "
   ]
  },
  {
   "cell_type": "markdown",
   "id": "c5eeebfa-ed2e-4094-b648-7746630a5e7d",
   "metadata": {},
   "source": [
    "dfd=pd.DataFrame({'Tweets':tweet, 'User':account_name, 'Time':time})\n",
    "df4=dfd[~dfd.Tweets.str.contains(\"RT\")]\n",
    "df4.shape"
   ]
  },
  {
   "cell_type": "code",
   "execution_count": 77,
   "id": "4f686f89-419a-4f19-b642-4a3241f858af",
   "metadata": {},
   "outputs": [],
   "source": [
    "tweets = tweepy.Cursor(api.search_tweets,q=search_words, lang=\"en\", tweet_mode='extended').items(num_tweets)\n",
    "num_tweets=300\n",
    "search_words='java'\n",
    "tweet=[]\n",
    "account_name=[]\n",
    "time=[]\n",
    "for i in tweets:\n",
    "    tweet.append(i.full_text)\n",
    "    account_name.append(i.id)\n",
    "    time.append(i.created_at)"
   ]
  },
  {
   "cell_type": "code",
   "execution_count": 78,
   "id": "30b04e68-8cc6-4993-be77-76621e0b7b1a",
   "metadata": {},
   "outputs": [
    {
     "data": {
      "text/plain": [
       "(185, 3)"
      ]
     },
     "execution_count": 78,
     "metadata": {},
     "output_type": "execute_result"
    }
   ],
   "source": [
    "dfj=pd.DataFrame({'Tweets':tweet, 'User':account_name, 'Time':time})\n",
    "df5=dfj[~dfj.Tweets.str.contains(\"RT\")]\n",
    "df5.shape"
   ]
  },
  {
   "cell_type": "code",
   "execution_count": 79,
   "id": "94c82b24-6a5b-4188-bba7-b2cabf0a9195",
   "metadata": {},
   "outputs": [],
   "source": [
    "df5=df5.reset_index(drop=True)\n",
    "df5['classification']='java'"
   ]
  },
  {
   "cell_type": "code",
   "execution_count": 80,
   "id": "55734672-b542-4f50-9e83-fb6e272f1e4f",
   "metadata": {},
   "outputs": [],
   "source": [
    "tweets = tweepy.Cursor(api.search_tweets,q=search_words, lang=\"en\", tweet_mode='extended').items(num_tweets)\n",
    "num_tweets=300\n",
    "search_words='leadership'\n",
    "tweet=[]\n",
    "account_name=[]\n",
    "time=[]\n",
    "for i in tweets:\n",
    "    tweet.append(i.full_text)\n",
    "    account_name.append(i.id)\n",
    "    time.append(i.created_at)"
   ]
  },
  {
   "cell_type": "code",
   "execution_count": 81,
   "id": "d1d2247e-8720-4e30-9b67-6f43daf65e95",
   "metadata": {},
   "outputs": [
    {
     "data": {
      "text/plain": [
       "(87, 3)"
      ]
     },
     "execution_count": 81,
     "metadata": {},
     "output_type": "execute_result"
    }
   ],
   "source": [
    "dfl=pd.DataFrame({'Tweets':tweet, 'User':account_name, 'Time':time})\n",
    "df6=dfl[~dfl.Tweets.str.contains(\"RT\")]\n",
    "df6.shape"
   ]
  },
  {
   "cell_type": "code",
   "execution_count": 82,
   "id": "cbea1e13-64f5-40be-afd9-21a52869d3f5",
   "metadata": {},
   "outputs": [],
   "source": [
    "df6=df6.reset_index(drop=True)\n",
    "df6['classification']='leadership'\n"
   ]
  },
  {
   "cell_type": "markdown",
   "id": "88569189-c894-4e74-a6bb-7042e0be947d",
   "metadata": {},
   "source": [
    "tweets = tweepy.Cursor(api.search_tweets,q=search_words, lang=\"en\", tweet_mode='extended').items(num_tweets)\n",
    "num_tweets=200\n",
    "search_words='Problem Solving'\n",
    "tweet=[]\n",
    "account_name=[]\n",
    "time=[]\n",
    "for i in tweets:\n",
    "    tweet.append(i.full_text)\n",
    "    account_name.append(i.id)\n",
    "    time.append(i.created_at)"
   ]
  },
  {
   "cell_type": "markdown",
   "id": "804a7dfd-4e9a-4df1-9439-177cbc880798",
   "metadata": {},
   "source": [
    "dfp=pd.DataFrame({'Tweets':tweet, 'User':account_name, 'Time':time})\n",
    "df7=dfp[~dfp.Tweets.str.contains(\"RT\")]\n",
    "df7.shape"
   ]
  },
  {
   "cell_type": "markdown",
   "id": "d4a57670-c60f-435a-adf6-84eaa2b505fe",
   "metadata": {},
   "source": [
    "df7=df7.reset_index(drop=True)\n",
    "df7['classification']='Problem Solving'\n"
   ]
  },
  {
   "cell_type": "markdown",
   "id": "0d05966a-338b-4008-8299-395dbf000e29",
   "metadata": {},
   "source": [
    "tweets = tweepy.Cursor(api.search_tweets,q=search_words, lang=\"en\", tweet_mode='extended').items(num_tweets)\n",
    "num_tweets=200\n",
    "search_words='Time Management'\n",
    "tweet=[]\n",
    "account_name=[]\n",
    "time=[]\n",
    "for i in tweets:\n",
    "    tweet.append(i.full_text)\n",
    "    account_name.append(i.id)\n",
    "    time.append(i.created_at)"
   ]
  },
  {
   "cell_type": "markdown",
   "id": "fdff4bff-641f-4d7f-b38d-e77634d19ecf",
   "metadata": {},
   "source": [
    "dft=pd.DataFrame({'Tweets':tweet, 'User':account_name, 'Time':time})\n",
    "df8=dft[~dft.Tweets.str.contains(\"RT\")]\n",
    "df8.shape"
   ]
  },
  {
   "cell_type": "markdown",
   "id": "4badec24-0bbe-4164-a6f4-e2e1e27bb83f",
   "metadata": {},
   "source": [
    "df8=df8.reset_index(drop=True)\n",
    "df8['classification']='Time Management'\n"
   ]
  },
  {
   "cell_type": "markdown",
   "id": "ef8a88b1-46cd-4a15-930e-6a66afcad5d9",
   "metadata": {},
   "source": [
    "tweets = tweepy.Cursor(api.search_tweets,q=search_words, lang=\"en\", tweet_mode='extended').items(num_tweets)\n",
    "num_tweets=200\n",
    "search_words='Decision Making'\n",
    "tweet=[]\n",
    "account_name=[]\n",
    "time=[]\n",
    "for i in tweets:\n",
    "    tweet.append(i.full_text)\n",
    "    account_name.append(i.id)\n",
    "    time.append(i.created_at)"
   ]
  },
  {
   "cell_type": "markdown",
   "id": "49ff2795-26e4-47bf-8b77-6095561cfe8e",
   "metadata": {},
   "source": [
    "dfdm=pd.DataFrame({'Tweets':tweet, 'User':account_name, 'Time':time})\n",
    "df9=dfdm[~dfdm.Tweets.str.contains(\"RT\")]\n",
    "df9.shape"
   ]
  },
  {
   "cell_type": "markdown",
   "id": "0e234514-e081-4241-99e8-0aa95235bee4",
   "metadata": {},
   "source": [
    "df9=df9.reset_index(drop=True)\n",
    "df9['classification']='Decision Making'"
   ]
  },
  {
   "cell_type": "code",
   "execution_count": 83,
   "id": "984bfe71-2c35-4bf2-9370-fa539007e020",
   "metadata": {},
   "outputs": [],
   "source": [
    "tweets = tweepy.Cursor(api.search_tweets,q=search_words, lang=\"en\", tweet_mode='extended').items(num_tweets)\n",
    "num_tweets=300\n",
    "search_words='Communication'\n",
    "tweet=[]\n",
    "account_name=[]\n",
    "time=[]\n",
    "for i in tweets:\n",
    "    tweet.append(i.full_text)\n",
    "    account_name.append(i.id)\n",
    "    time.append(i.created_at)"
   ]
  },
  {
   "cell_type": "code",
   "execution_count": 84,
   "id": "3408204d-d8c6-413a-878c-10c8d0075024",
   "metadata": {},
   "outputs": [
    {
     "data": {
      "text/plain": [
       "(69, 3)"
      ]
     },
     "execution_count": 84,
     "metadata": {},
     "output_type": "execute_result"
    }
   ],
   "source": [
    "dfcm=pd.DataFrame({'Tweets':tweet, 'User':account_name, 'Time':time})\n",
    "df10=dfcm[~dfcm.Tweets.str.contains(\"RT\")]\n",
    "df10.shape"
   ]
  },
  {
   "cell_type": "code",
   "execution_count": 85,
   "id": "5e4100fe-fc64-43b2-9162-af08e438a88d",
   "metadata": {},
   "outputs": [],
   "source": [
    "df10=df10.reset_index(drop=True)\n",
    "df10['classification']='Communication'"
   ]
  },
  {
   "cell_type": "markdown",
   "id": "ed3dcd4c-d64c-47a2-8258-17795b74e24f",
   "metadata": {},
   "source": [
    "tweets = tweepy.Cursor(api.search_tweets,q=search_words, lang=\"en\", tweet_mode='extended').items(num_tweets)\n",
    "num_tweets=300\n",
    "search_words='Teamwork'\n",
    "tweet=[]\n",
    "account_name=[]\n",
    "time=[]\n",
    "for i in tweets:\n",
    "    tweet.append(i.full_text)\n",
    "    account_name.append(i.id)\n",
    "    time.append(i.created_at)"
   ]
  },
  {
   "cell_type": "markdown",
   "id": "ace98666-52c5-45dc-8403-c5ee7b0ed046",
   "metadata": {},
   "source": [
    "dfk=pd.DataFrame({'Tweets':tweet, 'User':account_name, 'Time':time})\n",
    "df11=dfk[~dfk.Tweets.str.contains(\"RT\")]\n",
    "df11.shape"
   ]
  },
  {
   "cell_type": "markdown",
   "id": "5a1cb5a2-97cd-4ea9-96af-0b0051fd6c29",
   "metadata": {},
   "source": [
    "df11=df11.reset_index(drop=True)\n",
    "df11['classification']='Communication'"
   ]
  },
  {
   "cell_type": "markdown",
   "id": "836f49f0-6df5-4ff5-b51e-e96df14c04cf",
   "metadata": {},
   "source": [
    "tweets = tweepy.Cursor(api.search_tweets,q=search_words, lang=\"en\", tweet_mode='extended').items(num_tweets)\n",
    "num_tweets=200\n",
    "search_words='Critical Thinking'\n",
    "tweet=[]\n",
    "account_name=[]\n",
    "time=[]\n",
    "for i in tweets:\n",
    "    tweet.append(i.full_text)\n",
    "    account_name.append(i.id)\n",
    "    time.append(i.created_at)"
   ]
  },
  {
   "cell_type": "markdown",
   "id": "70210563-06ba-4af4-b1f7-70e304a8698f",
   "metadata": {},
   "source": [
    "dfct=pd.DataFrame({'Tweets':tweet, 'User':account_name, 'Time':time})\n",
    "df12=dfct[~dfct.Tweets.str.contains(\"RT\")]\n",
    "df12.shape"
   ]
  },
  {
   "cell_type": "markdown",
   "id": "c6f30131-3f3f-4a59-854c-8f552f965357",
   "metadata": {},
   "source": [
    "df12=df12.reset_index(drop=True)\n",
    "df12['classification']='Critical Thinking'"
   ]
  },
  {
   "cell_type": "markdown",
   "id": "572c8f07-854f-4029-b48d-206169642a60",
   "metadata": {},
   "source": [
    "tweets = tweepy.Cursor(api.search_tweets,q=search_words, lang=\"en\", tweet_mode='extended').items(num_tweets)\n",
    "num_tweets=200\n",
    "search_words='Creative Thinking'\n",
    "tweet=[]\n",
    "account_name=[]\n",
    "time=[]\n",
    "for i in tweets:\n",
    "    tweet.append(i.full_text)\n",
    "    account_name.append(i.id)\n",
    "    time.append(i.created_at)"
   ]
  },
  {
   "cell_type": "markdown",
   "id": "c0171a49-6512-4925-90e0-d970afc18eb8",
   "metadata": {},
   "source": [
    "dfch=pd.DataFrame({'Tweets':tweet, 'User':account_name, 'Time':time})\n",
    "df13=dfch[~dfch.Tweets.str.contains(\"RT\")]\n",
    "df13.shape"
   ]
  },
  {
   "cell_type": "markdown",
   "id": "4f76a8ba-1430-4015-9f9e-8091aadad806",
   "metadata": {},
   "source": [
    "df13=df13.reset_index(drop=True)\n",
    "df13['classification']='Creative Thinking'"
   ]
  },
  {
   "cell_type": "code",
   "execution_count": 117,
   "id": "c5fa5d32-67b9-4883-8ecc-b90f747b5285",
   "metadata": {},
   "outputs": [
    {
     "data": {
      "text/html": [
       "<div>\n",
       "<style scoped>\n",
       "    .dataframe tbody tr th:only-of-type {\n",
       "        vertical-align: middle;\n",
       "    }\n",
       "\n",
       "    .dataframe tbody tr th {\n",
       "        vertical-align: top;\n",
       "    }\n",
       "\n",
       "    .dataframe thead th {\n",
       "        text-align: right;\n",
       "    }\n",
       "</style>\n",
       "<table border=\"1\" class=\"dataframe\">\n",
       "  <thead>\n",
       "    <tr style=\"text-align: right;\">\n",
       "      <th></th>\n",
       "      <th>Tweets</th>\n",
       "      <th>User</th>\n",
       "      <th>Time</th>\n",
       "      <th>classification</th>\n",
       "    </tr>\n",
       "  </thead>\n",
       "  <tbody>\n",
       "    <tr>\n",
       "      <th>0</th>\n",
       "      <td>Today I have just completed #Day5 of 100 days ...</td>\n",
       "      <td>1547950064509014016</td>\n",
       "      <td>2022-07-15 14:23:49+00:00</td>\n",
       "      <td>python</td>\n",
       "    </tr>\n",
       "    <tr>\n",
       "      <th>1</th>\n",
       "      <td>@s_gruppetta_ct @reuvenmlerner If you can snea...</td>\n",
       "      <td>1547949887622328321</td>\n",
       "      <td>2022-07-15 14:23:07+00:00</td>\n",
       "      <td>python</td>\n",
       "    </tr>\n",
       "    <tr>\n",
       "      <th>2</th>\n",
       "      <td>Driven Brands, Inc. is looking for an Economis...</td>\n",
       "      <td>1547949864809422850</td>\n",
       "      <td>2022-07-15 14:23:01+00:00</td>\n",
       "      <td>python</td>\n",
       "    </tr>\n",
       "    <tr>\n",
       "      <th>3</th>\n",
       "      <td>Freddie Mac is looking for a Quantitative Anal...</td>\n",
       "      <td>1547949861839851523</td>\n",
       "      <td>2022-07-15 14:23:01+00:00</td>\n",
       "      <td>python</td>\n",
       "    </tr>\n",
       "    <tr>\n",
       "      <th>4</th>\n",
       "      <td>@DThompsonDev I am starting my career in https...</td>\n",
       "      <td>1547949809255923719</td>\n",
       "      <td>2022-07-15 14:22:48+00:00</td>\n",
       "      <td>python</td>\n",
       "    </tr>\n",
       "    <tr>\n",
       "      <th>...</th>\n",
       "      <td>...</td>\n",
       "      <td>...</td>\n",
       "      <td>...</td>\n",
       "      <td>...</td>\n",
       "    </tr>\n",
       "    <tr>\n",
       "      <th>88</th>\n",
       "      <td>⚡️ $RYU 💵 $RYPPF ⚡️\\n\\nTotal Network Services ...</td>\n",
       "      <td>1547946136500989960</td>\n",
       "      <td>2022-07-15 14:08:13+00:00</td>\n",
       "      <td>Communication</td>\n",
       "    </tr>\n",
       "    <tr>\n",
       "      <th>89</th>\n",
       "      <td>#Actions are #louder and more #clear than #com...</td>\n",
       "      <td>1547946134991093764</td>\n",
       "      <td>2022-07-15 14:08:12+00:00</td>\n",
       "      <td>Communication</td>\n",
       "    </tr>\n",
       "    <tr>\n",
       "      <th>90</th>\n",
       "      <td>Wish hadn't had give up on somone I actually l...</td>\n",
       "      <td>1547946119136653313</td>\n",
       "      <td>2022-07-15 14:08:08+00:00</td>\n",
       "      <td>Communication</td>\n",
       "    </tr>\n",
       "    <tr>\n",
       "      <th>91</th>\n",
       "      <td>Dance is communication with our bodies. Our fe...</td>\n",
       "      <td>1547946117517651968</td>\n",
       "      <td>2022-07-15 14:08:08+00:00</td>\n",
       "      <td>Communication</td>\n",
       "    </tr>\n",
       "    <tr>\n",
       "      <th>92</th>\n",
       "      <td>Yo I’m watching #TheUmbrellaAcademy. I forgot ...</td>\n",
       "      <td>1547946114854268930</td>\n",
       "      <td>2022-07-15 14:08:07+00:00</td>\n",
       "      <td>Communication</td>\n",
       "    </tr>\n",
       "  </tbody>\n",
       "</table>\n",
       "<p>681 rows × 4 columns</p>\n",
       "</div>"
      ],
      "text/plain": [
       "                                               Tweets                 User  \\\n",
       "0   Today I have just completed #Day5 of 100 days ...  1547950064509014016   \n",
       "1   @s_gruppetta_ct @reuvenmlerner If you can snea...  1547949887622328321   \n",
       "2   Driven Brands, Inc. is looking for an Economis...  1547949864809422850   \n",
       "3   Freddie Mac is looking for a Quantitative Anal...  1547949861839851523   \n",
       "4   @DThompsonDev I am starting my career in https...  1547949809255923719   \n",
       "..                                                ...                  ...   \n",
       "88  ⚡️ $RYU 💵 $RYPPF ⚡️\\n\\nTotal Network Services ...  1547946136500989960   \n",
       "89  #Actions are #louder and more #clear than #com...  1547946134991093764   \n",
       "90  Wish hadn't had give up on somone I actually l...  1547946119136653313   \n",
       "91  Dance is communication with our bodies. Our fe...  1547946117517651968   \n",
       "92  Yo I’m watching #TheUmbrellaAcademy. I forgot ...  1547946114854268930   \n",
       "\n",
       "                        Time classification  \n",
       "0  2022-07-15 14:23:49+00:00         python  \n",
       "1  2022-07-15 14:23:07+00:00         python  \n",
       "2  2022-07-15 14:23:01+00:00         python  \n",
       "3  2022-07-15 14:23:01+00:00         python  \n",
       "4  2022-07-15 14:22:48+00:00         python  \n",
       "..                       ...            ...  \n",
       "88 2022-07-15 14:08:13+00:00  Communication  \n",
       "89 2022-07-15 14:08:12+00:00  Communication  \n",
       "90 2022-07-15 14:08:08+00:00  Communication  \n",
       "91 2022-07-15 14:08:08+00:00  Communication  \n",
       "92 2022-07-15 14:08:07+00:00  Communication  \n",
       "\n",
       "[681 rows x 4 columns]"
      ]
     },
     "execution_count": 117,
     "metadata": {},
     "output_type": "execute_result"
    }
   ],
   "source": [
    "dfs=pd.concat([df1, df2, df3, df5, df6, df10, df11])\n",
    "dfs"
   ]
  },
  {
   "cell_type": "code",
   "execution_count": 109,
   "id": "b9eec796-db48-4265-bd9b-201c2aa892ea",
   "metadata": {},
   "outputs": [
    {
     "data": {
      "text/html": [
       "<div>\n",
       "<style scoped>\n",
       "    .dataframe tbody tr th:only-of-type {\n",
       "        vertical-align: middle;\n",
       "    }\n",
       "\n",
       "    .dataframe tbody tr th {\n",
       "        vertical-align: top;\n",
       "    }\n",
       "\n",
       "    .dataframe thead th {\n",
       "        text-align: right;\n",
       "    }\n",
       "</style>\n",
       "<table border=\"1\" class=\"dataframe\">\n",
       "  <thead>\n",
       "    <tr style=\"text-align: right;\">\n",
       "      <th></th>\n",
       "      <th>Tweets</th>\n",
       "      <th>User</th>\n",
       "      <th>Time</th>\n",
       "      <th>classification</th>\n",
       "    </tr>\n",
       "  </thead>\n",
       "  <tbody>\n",
       "    <tr>\n",
       "      <th>0</th>\n",
       "      <td>@UmmCarlitoes there is no ethical TI-84 Ce Plu...</td>\n",
       "      <td>1547949379394232321</td>\n",
       "      <td>2022-07-15 14:21:06+00:00</td>\n",
       "      <td>python</td>\n",
       "    </tr>\n",
       "    <tr>\n",
       "      <th>1</th>\n",
       "      <td>@thenation Their obvious mistake is not having...</td>\n",
       "      <td>1547947934821494784</td>\n",
       "      <td>2022-07-15 14:15:21+00:00</td>\n",
       "      <td>Communication</td>\n",
       "    </tr>\n",
       "    <tr>\n",
       "      <th>2</th>\n",
       "      <td>The confidence alcohol gives is damn scary 😂😂</td>\n",
       "      <td>1547946504270204930</td>\n",
       "      <td>2022-07-15 14:09:40+00:00</td>\n",
       "      <td>confidence</td>\n",
       "    </tr>\n",
       "    <tr>\n",
       "      <th>3</th>\n",
       "      <td>@bruno_nwogu No one has everything figured out...</td>\n",
       "      <td>1547957803817394176</td>\n",
       "      <td>2022-07-15 14:54:34+00:00</td>\n",
       "      <td>java</td>\n",
       "    </tr>\n",
       "    <tr>\n",
       "      <th>4</th>\n",
       "      <td>How countries with leadership are handling thi...</td>\n",
       "      <td>1547959110523445250</td>\n",
       "      <td>2022-07-15 14:59:46+00:00</td>\n",
       "      <td>Communication</td>\n",
       "    </tr>\n",
       "    <tr>\n",
       "      <th>5</th>\n",
       "      <td>@OTyagOfs Christ what is wrong with Nunez ? He...</td>\n",
       "      <td>1547957806187237379</td>\n",
       "      <td>2022-07-15 14:54:35+00:00</td>\n",
       "      <td>marketing</td>\n",
       "    </tr>\n",
       "    <tr>\n",
       "      <th>6</th>\n",
       "      <td>@KediriFess Baju bloodz/greenlight/3second/eig...</td>\n",
       "      <td>1547957005251678208</td>\n",
       "      <td>2022-07-15 14:51:24+00:00</td>\n",
       "      <td>leadership</td>\n",
       "    </tr>\n",
       "    <tr>\n",
       "      <th>7</th>\n",
       "      <td>Hell yeah! We need to revise the protections g...</td>\n",
       "      <td>1547957113284046848</td>\n",
       "      <td>2022-07-15 14:51:50+00:00</td>\n",
       "      <td>marketing</td>\n",
       "    </tr>\n",
       "    <tr>\n",
       "      <th>8</th>\n",
       "      <td>@GlobalCrypto777 Samurai King Is First BSC Mem...</td>\n",
       "      <td>1547957233270419458</td>\n",
       "      <td>2022-07-15 14:52:18+00:00</td>\n",
       "      <td>java</td>\n",
       "    </tr>\n",
       "    <tr>\n",
       "      <th>9</th>\n",
       "      <td>@EastMidRailway I know it's hot Summer but Sep...</td>\n",
       "      <td>1547946341820575746</td>\n",
       "      <td>2022-07-15 14:09:01+00:00</td>\n",
       "      <td>confidence</td>\n",
       "    </tr>\n",
       "  </tbody>\n",
       "</table>\n",
       "</div>"
      ],
      "text/plain": [
       "                                              Tweets                 User  \\\n",
       "0  @UmmCarlitoes there is no ethical TI-84 Ce Plu...  1547949379394232321   \n",
       "1  @thenation Their obvious mistake is not having...  1547947934821494784   \n",
       "2      The confidence alcohol gives is damn scary 😂😂  1547946504270204930   \n",
       "3  @bruno_nwogu No one has everything figured out...  1547957803817394176   \n",
       "4  How countries with leadership are handling thi...  1547959110523445250   \n",
       "5  @OTyagOfs Christ what is wrong with Nunez ? He...  1547957806187237379   \n",
       "6  @KediriFess Baju bloodz/greenlight/3second/eig...  1547957005251678208   \n",
       "7  Hell yeah! We need to revise the protections g...  1547957113284046848   \n",
       "8  @GlobalCrypto777 Samurai King Is First BSC Mem...  1547957233270419458   \n",
       "9  @EastMidRailway I know it's hot Summer but Sep...  1547946341820575746   \n",
       "\n",
       "                       Time classification  \n",
       "0 2022-07-15 14:21:06+00:00         python  \n",
       "1 2022-07-15 14:15:21+00:00  Communication  \n",
       "2 2022-07-15 14:09:40+00:00     confidence  \n",
       "3 2022-07-15 14:54:34+00:00           java  \n",
       "4 2022-07-15 14:59:46+00:00  Communication  \n",
       "5 2022-07-15 14:54:35+00:00      marketing  \n",
       "6 2022-07-15 14:51:24+00:00     leadership  \n",
       "7 2022-07-15 14:51:50+00:00      marketing  \n",
       "8 2022-07-15 14:52:18+00:00           java  \n",
       "9 2022-07-15 14:09:01+00:00     confidence  "
      ]
     },
     "execution_count": 109,
     "metadata": {},
     "output_type": "execute_result"
    }
   ],
   "source": [
    "df = dfs.sample(frac=1)\n",
    "df=df.reset_index(drop=True)\n",
    "df.head(10)"
   ]
  },
  {
   "cell_type": "code",
   "execution_count": 118,
   "id": "06dd6e40-b1e7-4321-b1e7-88b03a255c2a",
   "metadata": {},
   "outputs": [],
   "source": [
    "dfs.classification=dfs.classification.str.lower()"
   ]
  },
  {
   "cell_type": "code",
   "execution_count": 119,
   "id": "828e9287-174e-44fe-92df-4c07ef3574cb",
   "metadata": {},
   "outputs": [],
   "source": [
    "dfs.Tweets=dfs.Tweets.str.lower()"
   ]
  },
  {
   "cell_type": "code",
   "execution_count": 121,
   "id": "f2ac9680-c286-456e-8678-c0af7664b024",
   "metadata": {},
   "outputs": [
    {
     "data": {
      "text/html": [
       "<div>\n",
       "<style scoped>\n",
       "    .dataframe tbody tr th:only-of-type {\n",
       "        vertical-align: middle;\n",
       "    }\n",
       "\n",
       "    .dataframe tbody tr th {\n",
       "        vertical-align: top;\n",
       "    }\n",
       "\n",
       "    .dataframe thead th {\n",
       "        text-align: right;\n",
       "    }\n",
       "</style>\n",
       "<table border=\"1\" class=\"dataframe\">\n",
       "  <thead>\n",
       "    <tr style=\"text-align: right;\">\n",
       "      <th></th>\n",
       "      <th>Tweets</th>\n",
       "      <th>User</th>\n",
       "      <th>Time</th>\n",
       "      <th>classification</th>\n",
       "    </tr>\n",
       "  </thead>\n",
       "  <tbody>\n",
       "    <tr>\n",
       "      <th>0</th>\n",
       "      <td>today i have just completed #day5 of 100 days ...</td>\n",
       "      <td>1547950064509014016</td>\n",
       "      <td>2022-07-15 14:23:49+00:00</td>\n",
       "      <td>python</td>\n",
       "    </tr>\n",
       "    <tr>\n",
       "      <th>1</th>\n",
       "      <td>@s_gruppetta_ct @reuvenmlerner if you can snea...</td>\n",
       "      <td>1547949887622328321</td>\n",
       "      <td>2022-07-15 14:23:07+00:00</td>\n",
       "      <td>python</td>\n",
       "    </tr>\n",
       "    <tr>\n",
       "      <th>2</th>\n",
       "      <td>driven brands, inc. is looking for an economis...</td>\n",
       "      <td>1547949864809422850</td>\n",
       "      <td>2022-07-15 14:23:01+00:00</td>\n",
       "      <td>python</td>\n",
       "    </tr>\n",
       "    <tr>\n",
       "      <th>3</th>\n",
       "      <td>freddie mac is looking for a quantitative anal...</td>\n",
       "      <td>1547949861839851523</td>\n",
       "      <td>2022-07-15 14:23:01+00:00</td>\n",
       "      <td>python</td>\n",
       "    </tr>\n",
       "    <tr>\n",
       "      <th>4</th>\n",
       "      <td>@dthompsondev i am starting my career in https...</td>\n",
       "      <td>1547949809255923719</td>\n",
       "      <td>2022-07-15 14:22:48+00:00</td>\n",
       "      <td>python</td>\n",
       "    </tr>\n",
       "    <tr>\n",
       "      <th>...</th>\n",
       "      <td>...</td>\n",
       "      <td>...</td>\n",
       "      <td>...</td>\n",
       "      <td>...</td>\n",
       "    </tr>\n",
       "    <tr>\n",
       "      <th>88</th>\n",
       "      <td>⚡️ $ryu 💵 $ryppf ⚡️\\n\\ntotal network services ...</td>\n",
       "      <td>1547946136500989960</td>\n",
       "      <td>2022-07-15 14:08:13+00:00</td>\n",
       "      <td>communication</td>\n",
       "    </tr>\n",
       "    <tr>\n",
       "      <th>89</th>\n",
       "      <td>#actions are #louder and more #clear than #com...</td>\n",
       "      <td>1547946134991093764</td>\n",
       "      <td>2022-07-15 14:08:12+00:00</td>\n",
       "      <td>communication</td>\n",
       "    </tr>\n",
       "    <tr>\n",
       "      <th>90</th>\n",
       "      <td>wish hadn't had give up on somone i actually l...</td>\n",
       "      <td>1547946119136653313</td>\n",
       "      <td>2022-07-15 14:08:08+00:00</td>\n",
       "      <td>communication</td>\n",
       "    </tr>\n",
       "    <tr>\n",
       "      <th>91</th>\n",
       "      <td>dance is communication with our bodies. our fe...</td>\n",
       "      <td>1547946117517651968</td>\n",
       "      <td>2022-07-15 14:08:08+00:00</td>\n",
       "      <td>communication</td>\n",
       "    </tr>\n",
       "    <tr>\n",
       "      <th>92</th>\n",
       "      <td>yo i’m watching #theumbrellaacademy. i forgot ...</td>\n",
       "      <td>1547946114854268930</td>\n",
       "      <td>2022-07-15 14:08:07+00:00</td>\n",
       "      <td>communication</td>\n",
       "    </tr>\n",
       "  </tbody>\n",
       "</table>\n",
       "<p>681 rows × 4 columns</p>\n",
       "</div>"
      ],
      "text/plain": [
       "                                               Tweets                 User  \\\n",
       "0   today i have just completed #day5 of 100 days ...  1547950064509014016   \n",
       "1   @s_gruppetta_ct @reuvenmlerner if you can snea...  1547949887622328321   \n",
       "2   driven brands, inc. is looking for an economis...  1547949864809422850   \n",
       "3   freddie mac is looking for a quantitative anal...  1547949861839851523   \n",
       "4   @dthompsondev i am starting my career in https...  1547949809255923719   \n",
       "..                                                ...                  ...   \n",
       "88  ⚡️ $ryu 💵 $ryppf ⚡️\\n\\ntotal network services ...  1547946136500989960   \n",
       "89  #actions are #louder and more #clear than #com...  1547946134991093764   \n",
       "90  wish hadn't had give up on somone i actually l...  1547946119136653313   \n",
       "91  dance is communication with our bodies. our fe...  1547946117517651968   \n",
       "92  yo i’m watching #theumbrellaacademy. i forgot ...  1547946114854268930   \n",
       "\n",
       "                        Time classification  \n",
       "0  2022-07-15 14:23:49+00:00         python  \n",
       "1  2022-07-15 14:23:07+00:00         python  \n",
       "2  2022-07-15 14:23:01+00:00         python  \n",
       "3  2022-07-15 14:23:01+00:00         python  \n",
       "4  2022-07-15 14:22:48+00:00         python  \n",
       "..                       ...            ...  \n",
       "88 2022-07-15 14:08:13+00:00  communication  \n",
       "89 2022-07-15 14:08:12+00:00  communication  \n",
       "90 2022-07-15 14:08:08+00:00  communication  \n",
       "91 2022-07-15 14:08:08+00:00  communication  \n",
       "92 2022-07-15 14:08:07+00:00  communication  \n",
       "\n",
       "[681 rows x 4 columns]"
      ]
     },
     "execution_count": 121,
     "metadata": {},
     "output_type": "execute_result"
    }
   ],
   "source": [
    "dfs"
   ]
  },
  {
   "cell_type": "code",
   "execution_count": 126,
   "id": "e9f81317-bfee-431f-9b20-e9ec26c1997e",
   "metadata": {},
   "outputs": [
    {
     "data": {
      "text/plain": [
       "Tweets            0\n",
       "User              0\n",
       "Time              0\n",
       "classification    0\n",
       "dtype: int64"
      ]
     },
     "execution_count": 126,
     "metadata": {},
     "output_type": "execute_result"
    }
   ],
   "source": [
    "dfs.isna().sum()"
   ]
  },
  {
   "cell_type": "code",
   "execution_count": 127,
   "id": "0f616e26-d54b-4b67-a930-3d9bc223212a",
   "metadata": {},
   "outputs": [],
   "source": [
    "dfs['Time'] =dfs['Time'].astype('str')\n",
    "#df['Time'] = df['Time'].apply(lambda a: pd.to_datetime(a).date()) "
   ]
  },
  {
   "cell_type": "code",
   "execution_count": 128,
   "id": "36ff6b7f-8f32-4d1e-92f3-9c4202e58db7",
   "metadata": {},
   "outputs": [],
   "source": [
    "dfs.to_excel('tweets_final.xlsx', index=False)"
   ]
  },
  {
   "cell_type": "code",
   "execution_count": 125,
   "id": "37553326-da2e-4db5-bb4f-c22d741ec630",
   "metadata": {},
   "outputs": [
    {
     "data": {
      "text/plain": [
       "array(['python', 'communication', 'confidence', 'java', 'marketing',\n",
       "       'leadership'], dtype=object)"
      ]
     },
     "execution_count": 125,
     "metadata": {},
     "output_type": "execute_result"
    }
   ],
   "source": [
    "df.classification.unique()"
   ]
  },
  {
   "cell_type": "code",
   "execution_count": null,
   "id": "58dbd81f-e219-4c3d-a4be-e13e46c55d1e",
   "metadata": {},
   "outputs": [],
   "source": []
  },
  {
   "cell_type": "code",
   "execution_count": null,
   "id": "9388522e-a4f6-450a-8a57-8ab6f4467cac",
   "metadata": {},
   "outputs": [],
   "source": []
  }
 ],
 "metadata": {
  "kernelspec": {
   "display_name": "Python 3 (ipykernel)",
   "language": "python",
   "name": "python3"
  },
  "language_info": {
   "codemirror_mode": {
    "name": "ipython",
    "version": 3
   },
   "file_extension": ".py",
   "mimetype": "text/x-python",
   "name": "python",
   "nbconvert_exporter": "python",
   "pygments_lexer": "ipython3",
   "version": "3.9.7"
  }
 },
 "nbformat": 4,
 "nbformat_minor": 5
}
